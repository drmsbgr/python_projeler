{
 "cells": [
  {
   "cell_type": "code",
   "execution_count": 1,
   "metadata": {},
   "outputs": [
    {
     "name": "stdout",
     "output_type": "stream",
     "text": [
      "['trabzon', ['samsun', 'adana', 'ordu'], 5, 3, [2, 1, 3]]\n",
      "['trabzon', ['samsun', 'adana', 'ordu'], 5, 3, [2, 1, 3]]\n",
      "\n",
      "['TRABZON', ['samsun', 'adana', 'ordu'], 5, 3, [2, 1, 3]]\n",
      "['trabzon', ['samsun', 'adana', 'ordu'], 5, 3, [2, 1, 3]]\n",
      "\n",
      "['TRABZON', ['samsun', 'ADANA', 'ordu'], 5, 3, [2, 1, 3], 'KAHRAMANMARAŞ']\n",
      "['trabzon', ['samsun', 'ADANA', 'ordu'], 5, 3, [2, 1, 3]]\n"
     ]
    }
   ],
   "source": [
    "import copy\n",
    "\n",
    "l1 = [\"trabzon\", [\"samsun\", \"adana\", \"ordu\"], 5, 3, [2, 1, 3]]\n",
    "\n",
    "l2 = copy.copy(l1)\n",
    "#l2 = copy.deepcopy(l1)\n",
    "\n",
    "print(l1)\n",
    "print(l2)\n",
    "print()\n",
    "\n",
    "l1[0] = \"TRABZON\"\n",
    "\n",
    "print(l1)\n",
    "print(l2)\n",
    "print()\n",
    "\n",
    "l1[1][1] = \"ADANA\"\n",
    "l1.append(\"KAHRAMANMARAŞ\")\n",
    "\n",
    "print(l1)\n",
    "print(l2)"
   ]
  },
  {
   "cell_type": "code",
   "execution_count": 11,
   "metadata": {},
   "outputs": [
    {
     "name": "stdout",
     "output_type": "stream",
     "text": [
      "['Ahmet', '', '', 'Mehmet']\n",
      "['Ahmet', '', '', 'Mehmet']\n",
      "['Ahmet', 'Mehmet']\n"
     ]
    }
   ],
   "source": [
    "name = [\"Ahmet\", \"Ayşe\", \"Ali\", \"Mehmet\"]\n",
    "age = [25, 5, 10, 45]\n",
    "\n",
    "l = list(map(lambda x: name[age.index(x)] if x > 18 else \"\", age))\n",
    "\n",
    "l1 = [name[age.index(a)] if a > 18 else \"\" for a in age]\n",
    "\n",
    "l2 = [nm for i, nm in enumerate(name) if (age[i] > 18)]\n",
    "\n",
    "print(l)\n",
    "print(l1)\n",
    "print(l2)"
   ]
  },
  {
   "cell_type": "code",
   "execution_count": 10,
   "metadata": {},
   "outputs": [
    {
     "name": "stdout",
     "output_type": "stream",
     "text": [
      "{1: {'isim': 'Ahmet', 'sehir': 'Kastamonu', 'bolum': 'Bilgisayar'}, 2: {'isim': 'Kemal', 'sehir': 'Sinop', 'bolum': 'Yazılım'}, 3: {'isim': 'Aylin', 'sehir': 'Mersin', 'bolum': 'Yazılım'}, 4: {'isim': 'Gizem', 'sehir': 'Kahramanmaraş', 'bolum': 'Tıp'}}\n",
      "\n",
      "1 no'lu öğrenci\n",
      "\n",
      "\tisim:Ahmet\n",
      "\tsehir:Kastamonu\n",
      "\tbolum:Bilgisayar\n",
      "\n",
      "2 no'lu öğrenci\n",
      "\n",
      "\tisim:Kemal\n",
      "\tsehir:Sinop\n",
      "\tbolum:Yazılım\n",
      "\n",
      "3 no'lu öğrenci\n",
      "\n",
      "\tisim:Aylin\n",
      "\tsehir:Mersin\n",
      "\tbolum:Yazılım\n",
      "\n",
      "4 no'lu öğrenci\n",
      "\n",
      "\tisim:Gizem\n",
      "\tsehir:Kahramanmaraş\n",
      "\tbolum:Tıp\n",
      "\n"
     ]
    }
   ],
   "source": [
    "d = dict()\n",
    "\n",
    "d[1] = {\"isim\": \"Ahmet\", \"sehir\": \"Kastamonu\", \"bolum\": \"Bilgisayar\"}\n",
    "d[2] = {\"isim\": \"Kemal\", \"sehir\": \"Sinop\", \"bolum\": \"Yazılım\"}\n",
    "d[3] = {\"isim\": \"Aylin\", \"sehir\": \"Mersin\", \"bolum\": \"Yazılım\"}\n",
    "d[4] = {\"isim\": \"Gizem\", \"sehir\": \"Kahramanmaraş\", \"bolum\": \"Tıp\"}\n",
    "\n",
    "print(d)\n",
    "print()\n",
    "\n",
    "for k1 in d.keys():\n",
    "    print(f\"{k1} no'lu öğrenci\\n\")\n",
    "    for k2 in d[k1].keys():\n",
    "        print(f\"\\t{k2}:{d[k1][k2]}\")\n",
    "    print()"
   ]
  }
 ],
 "metadata": {
  "kernelspec": {
   "display_name": "Python 3",
   "language": "python",
   "name": "python3"
  },
  "language_info": {
   "codemirror_mode": {
    "name": "ipython",
    "version": 3
   },
   "file_extension": ".py",
   "mimetype": "text/x-python",
   "name": "python",
   "nbconvert_exporter": "python",
   "pygments_lexer": "ipython3",
   "version": "3.12.1"
  }
 },
 "nbformat": 4,
 "nbformat_minor": 2
}
