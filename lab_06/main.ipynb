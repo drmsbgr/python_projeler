{
 "cells": [
  {
   "cell_type": "code",
   "execution_count": 1,
   "metadata": {},
   "outputs": [
    {
     "name": "stdout",
     "output_type": "stream",
     "text": [
      "['trabzon', ['samsun', 'adana', 'ordu'], 5, 3, [2, 1, 3]]\n",
      "['trabzon', ['samsun', 'adana', 'ordu'], 5, 3, [2, 1, 3]]\n",
      "\n",
      "['TRABZON', ['samsun', 'adana', 'ordu'], 5, 3, [2, 1, 3]]\n",
      "['trabzon', ['samsun', 'adana', 'ordu'], 5, 3, [2, 1, 3]]\n",
      "\n",
      "['TRABZON', ['samsun', 'ADANA', 'ordu'], 5, 3, [2, 1, 3], 'KAHRAMANMARAŞ']\n",
      "['trabzon', ['samsun', 'ADANA', 'ordu'], 5, 3, [2, 1, 3]]\n"
     ]
    }
   ],
   "source": [
    "import copy\n",
    "\n",
    "l1 = [\"trabzon\", [\"samsun\", \"adana\", \"ordu\"], 5, 3, [2, 1, 3]]\n",
    "\n",
    "l2 = copy.copy(l1)\n",
    "#l2 = copy.deepcopy(l1)\n",
    "\n",
    "print(l1)\n",
    "print(l2)\n",
    "print()\n",
    "\n",
    "l1[0] = \"TRABZON\"\n",
    "\n",
    "print(l1)\n",
    "print(l2)\n",
    "print()\n",
    "\n",
    "l1[1][1] = \"ADANA\"\n",
    "l1.append(\"KAHRAMANMARAŞ\")\n",
    "\n",
    "print(l1)\n",
    "print(l2)"
   ]
  },
  {
   "cell_type": "code",
   "execution_count": 11,
   "metadata": {},
   "outputs": [
    {
     "name": "stdout",
     "output_type": "stream",
     "text": [
      "['Ahmet', '', '', 'Mehmet']\n",
      "['Ahmet', '', '', 'Mehmet']\n",
      "['Ahmet', 'Mehmet']\n"
     ]
    }
   ],
   "source": [
    "name = [\"Ahmet\", \"Ayşe\", \"Ali\", \"Mehmet\"]\n",
    "age = [25, 5, 10, 45]\n",
    "\n",
    "l = list(map(lambda x: name[age.index(x)] if x > 18 else \"\", age))\n",
    "\n",
    "l1 = [name[age.index(a)] if a > 18 else \"\" for a in age]\n",
    "\n",
    "l2 = [nm for i, nm in enumerate(name) if (age[i] > 18)]\n",
    "\n",
    "print(l)\n",
    "print(l1)\n",
    "print(l2)"
   ]
  },
  {
   "cell_type": "code",
   "execution_count": null,
   "metadata": {},
   "outputs": [],
   "source": []
  }
 ],
 "metadata": {
  "kernelspec": {
   "display_name": "Python 3",
   "language": "python",
   "name": "python3"
  },
  "language_info": {
   "codemirror_mode": {
    "name": "ipython",
    "version": 3
   },
   "file_extension": ".py",
   "mimetype": "text/x-python",
   "name": "python",
   "nbconvert_exporter": "python",
   "pygments_lexer": "ipython3",
   "version": "3.12.1"
  }
 },
 "nbformat": 4,
 "nbformat_minor": 2
}
