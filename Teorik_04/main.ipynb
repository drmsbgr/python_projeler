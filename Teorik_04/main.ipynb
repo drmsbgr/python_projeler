{
 "cells": [
  {
   "cell_type": "code",
   "execution_count": 68,
   "metadata": {},
   "outputs": [],
   "source": [
    "import pandas as pd"
   ]
  },
  {
   "cell_type": "code",
   "execution_count": 69,
   "metadata": {},
   "outputs": [],
   "source": [
    "class Student:\n",
    "\n",
    "    def __init__(self, no, name, surname, midterm, final):\n",
    "        self.no = no\n",
    "        self.name = name\n",
    "        self.surname = surname\n",
    "        self.midterm = midterm\n",
    "        self.final = final\n",
    "\n",
    "    def getFullName(self):\n",
    "        return f\"{self.name} {self.surname}\"\n",
    "\n",
    "    def calculateScore(self):\n",
    "        return self.midterm * 0.4 + self.final * 0.6\n",
    "\n",
    "    def printInformation(self):\n",
    "        print(f\"{self.getFullName()}\\t Score: {self.calculateScore()}\")"
   ]
  },
  {
   "cell_type": "code",
   "execution_count": 70,
   "metadata": {},
   "outputs": [
    {
     "name": "stdout",
     "output_type": "stream",
     "text": [
      "Buğra Durmuş\t Score: 74.0\n",
      "Ali Yılmaz\t Score: 52.0\n",
      "Mustafa Öztürk\t Score: 43.0\n",
      "Veli Kuş\t Score: 80.8\n",
      "\n",
      "Sorted\n",
      "\n",
      "Mustafa Öztürk\t Score: 43.0\n",
      "Ali Yılmaz\t Score: 52.0\n",
      "Buğra Durmuş\t Score: 74.0\n",
      "Veli Kuş\t Score: 80.8\n"
     ]
    }
   ],
   "source": [
    "df = pd.read_excel(\"students.xlsx\")\n",
    "\n",
    "l = []\n",
    "\n",
    "for s in df.values:\n",
    "    student = Student(s[0], s[1], s[2], s[3], s[4])\n",
    "    l.append(student)\n",
    "\n",
    "\n",
    "def printStudents(list):\n",
    "    for s in list:\n",
    "        s.printInformation()\n",
    "\n",
    "\n",
    "printStudents(l)\n",
    "\n",
    "\n",
    "def sortByScore(s: Student):\n",
    "    return s.calculateScore()\n",
    "\n",
    "\n",
    "l.sort(key=sortByScore)\n",
    "\n",
    "print(\"\\nSorted\\n\")\n",
    "\n",
    "\n",
    "printStudents(l)"
   ]
  }
 ],
 "metadata": {
  "kernelspec": {
   "display_name": ".venv",
   "language": "python",
   "name": "python3"
  },
  "language_info": {
   "codemirror_mode": {
    "name": "ipython",
    "version": 3
   },
   "file_extension": ".py",
   "mimetype": "text/x-python",
   "name": "python",
   "nbconvert_exporter": "python",
   "pygments_lexer": "ipython3",
   "version": "3.9.13"
  }
 },
 "nbformat": 4,
 "nbformat_minor": 2
}
