{
 "cells": [
  {
   "cell_type": "code",
   "execution_count": null,
   "metadata": {},
   "outputs": [],
   "source": [
    "# ikinci dereceden bir denklemin kökleri\n",
    "\n",
    "import math\n",
    "\n",
    "a = int(input(\"x^2'nin katsayısını girin: \"))\n",
    "b = int(input(\"x'in katsayısını girin: \"))\n",
    "c = int(input(\"sabit terimi girin: \"))\n",
    "\n",
    "print(f\"Oluşturulan denklem: ({a} * x^2) + ({b} * x) + ({c}) = 0\")\n",
    "\n",
    "d = b**2 - 4 * a * c\n",
    "\n",
    "\n",
    "if d < 0:\n",
    "    print(\"reel kök yok.\")\n",
    "else:\n",
    "    x1 = (-b + math.sqrt(d)) / (2 * a)\n",
    "    x2 = (-b - math.sqrt(d)) / (2 * a)\n",
    "\n",
    "    if x1 == x2:\n",
    "        print(f\"denklemin çift katlı kökü vardır, x = {x1}\")\n",
    "    else:\n",
    "        print(f\"denklemin iki farklı kökü vardır, x1 = {x1} ve x2 = {x2}\")"
   ]
  },
  {
   "cell_type": "code",
   "execution_count": 3,
   "metadata": {},
   "outputs": [
    {
     "name": "stdout",
     "output_type": "stream",
     "text": [
      "girdi: 3.0\n",
      "toplam: 2.625\n"
     ]
    }
   ],
   "source": [
    "# bir pozitif sayıyı, sayı kadar ikiye bölen ve değerlerin 0.1 den büyük olanlarının toplamını döndüren python kodu\n",
    "\n",
    "\n",
    "n = float(input(\"pozitif bir tamsayı girin\"))\n",
    "\n",
    "print(f\"girdi: {n}\")\n",
    "\n",
    "i = n\n",
    "s = 0\n",
    "\n",
    "while i > 0:\n",
    "    n /= 2\n",
    "    i -= 1\n",
    "    if n > 0.1:\n",
    "        s += n\n",
    "\n",
    "print(f\"toplam: {s}\")"
   ]
  },
  {
   "cell_type": "code",
   "execution_count": 2,
   "metadata": {},
   "outputs": [
    {
     "name": "stdout",
     "output_type": "stream",
     "text": [
      "6.890625\n"
     ]
    }
   ],
   "source": [
    "def bolenleri_topla(sayi):\n",
    "    toplam = 0\n",
    "    sayac = sayi\n",
    "    \n",
    "    while sayac > 0:\n",
    "        sayi /= 2\n",
    "        sayac-=1\n",
    "        if sayi > 0.1:\n",
    "            toplam += sayi\n",
    "    \n",
    "    return toplam\n",
    "\n",
    "print(bolenleri_topla(7))"
   ]
  },
  {
   "cell_type": "code",
   "execution_count": 12,
   "metadata": {},
   "outputs": [
    {
     "name": "stdout",
     "output_type": "stream",
     "text": [
      "reban\n"
     ]
    }
   ],
   "source": [
    "#stringi ters çevir\n",
    "\n",
    "s = input(\"bir dizgi girin: \")\n",
    "\n",
    "s = s[::-1]\n",
    "\n",
    "print(s)"
   ]
  },
  {
   "cell_type": "code",
   "execution_count": 18,
   "metadata": {},
   "outputs": [
    {
     "name": "stdout",
     "output_type": "stream",
     "text": [
      "girilen sayı: 8789\n",
      "girilen sayıda (2) çift rakam ve (2) tek rakam bulunmaktadır.\n",
      "girilen sayının rakamları toplamı: 32\n"
     ]
    }
   ],
   "source": [
    "# girilen sayının kaç rakamları toplamı ve rakamların teklik çiftlik durumları\n",
    "\n",
    "n = int(input(\"bir sayı girin: \"))\n",
    "\n",
    "print(f\"girilen sayı: {n}\")\n",
    "\n",
    "rakamToplam = 0\n",
    "ciftAdet = 0\n",
    "tekAdet = 0\n",
    "\n",
    "while n > 0:\n",
    "    r = n % 10\n",
    "    rakamToplam += r\n",
    "    if r % 2 == 0:\n",
    "        ciftAdet += 1\n",
    "    else:\n",
    "        tekAdet += 1\n",
    "    n //= 10\n",
    "    \n",
    "print(f\"girilen sayıda ({ciftAdet}) çift rakam ve ({tekAdet}) tek rakam bulunmaktadır.\")\n",
    "print(f\"girilen sayının rakamları toplamı: {rakamToplam}\")"
   ]
  }
 ],
 "metadata": {
  "kernelspec": {
   "display_name": "Python 3",
   "language": "python",
   "name": "python3"
  },
  "language_info": {
   "codemirror_mode": {
    "name": "ipython",
    "version": 3
   },
   "file_extension": ".py",
   "mimetype": "text/x-python",
   "name": "python",
   "nbconvert_exporter": "python",
   "pygments_lexer": "ipython3",
   "version": "3.12.1"
  }
 },
 "nbformat": 4,
 "nbformat_minor": 2
}
