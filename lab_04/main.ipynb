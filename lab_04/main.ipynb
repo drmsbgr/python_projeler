{
 "cells": [
  {
   "cell_type": "code",
   "execution_count": null,
   "metadata": {},
   "outputs": [],
   "source": [
    "l = \"aeıioöuü\"\n",
    "\n",
    "s = \"Merhaba Dünya!\"\n",
    "\n",
    "for item in l:\n",
    "    s = s.replace(item, \"\")\n",
    "\n",
    "print(s)\n",
    "\n",
    "i = 0\n",
    "\n",
    "while i < len(s):\n",
    "    if s[i] == 'b':\n",
    "        print(f\"\\'b\\' karakteri {i} numaralı indekste.\")\n",
    "        break\n",
    "    i+=1\n"
   ]
  },
  {
   "cell_type": "code",
   "execution_count": 7,
   "metadata": {},
   "outputs": [
    {
     "name": "stdout",
     "output_type": "stream",
     "text": [
      "Mrhb bn brhm. nstgrmd 14 bn tkpçm vr.\n",
      "yrc Rs f Kngdmst 200 mlyn gcm blnmkt.\n"
     ]
    }
   ],
   "source": [
    "v = \"aeıioöuüAEIİOÖUÜ\"\n",
    "s = \"Merhaba ben İbrahim. İnstagramda 14 bin takipçim var.\\nAyrıca Rise Of Kingdomsta 200 milyon gücüm bulunmakta.\"\n",
    "\n",
    "for item in v:\n",
    "    s = s.replace(item, '')\n",
    "\n",
    "print(s)"
   ]
  }
 ],
 "metadata": {
  "kernelspec": {
   "display_name": "Python 3",
   "language": "python",
   "name": "python3"
  },
  "language_info": {
   "codemirror_mode": {
    "name": "ipython",
    "version": 3
   },
   "file_extension": ".py",
   "mimetype": "text/x-python",
   "name": "python",
   "nbconvert_exporter": "python",
   "pygments_lexer": "ipython3",
   "version": "3.12.1"
  }
 },
 "nbformat": 4,
 "nbformat_minor": 2
}
