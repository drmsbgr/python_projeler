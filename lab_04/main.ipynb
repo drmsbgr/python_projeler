{
 "cells": [
  {
   "cell_type": "code",
   "execution_count": null,
   "metadata": {},
   "outputs": [],
   "source": [
    "l = \"aeıioöuü\"\n",
    "\n",
    "s = \"Merhaba Dünya!\"\n",
    "\n",
    "for item in l:\n",
    "    s = s.replace(item, \"\")\n",
    "\n",
    "print(s)\n",
    "\n",
    "i = 0\n",
    "\n",
    "while i < len(s):\n",
    "    if s[i] == 'b':\n",
    "        print(f\"\\'b\\' karakteri {i} numaralı indekste.\")\n",
    "        break\n",
    "    i+=1\n"
   ]
  }
 ],
 "metadata": {
  "language_info": {
   "name": "python"
  }
 },
 "nbformat": 4,
 "nbformat_minor": 2
}
