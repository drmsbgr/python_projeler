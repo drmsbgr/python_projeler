{
 "cells": [
  {
   "cell_type": "code",
   "execution_count": 39,
   "metadata": {},
   "outputs": [
    {
     "name": "stdout",
     "output_type": "stream",
     "text": [
      "0 = spam!\n",
      "1 = 1\n",
      "2 : 0 = Brie\n",
      "2 : 1 = Roquefort\n",
      "2 : 2 = Pol le Veq\n",
      "3 : 0 = 1\n",
      "3 : 1 = 2\n",
      "3 : 2 = 3\n"
     ]
    }
   ],
   "source": [
    "liste = [\"spam!\", 1, [\"Brie\", \"Roquefort\", \"Pol le Veq\"], [1, 2, 3]]\n",
    "\n",
    "for item in liste:\n",
    "    if type(item).__name__ == \"list\":\n",
    "        for item2 in item:\n",
    "            print(f\"{liste.index(item)} : {item.index(item2)} = {item2}\")\n",
    "    else:\n",
    "        print(f\"{liste.index(item)} = {item}\")"
   ]
  },
  {
   "cell_type": "code",
   "execution_count": 22,
   "metadata": {},
   "outputs": [
    {
     "data": {
      "text/plain": [
       "[2, 2]"
      ]
     },
     "execution_count": 22,
     "metadata": {},
     "output_type": "execute_result"
    }
   ],
   "source": [
    "def add_lists(a: list, b: list):\n",
    "    if len(a) != len(b):\n",
    "        return\n",
    "\n",
    "    return [a[i] + b[i] for i in range(len(a))]\n",
    "\n",
    "\n",
    "add_lists([1, 1], [1, 1])"
   ]
  },
  {
   "cell_type": "code",
   "execution_count": 23,
   "metadata": {},
   "outputs": [
    {
     "data": {
      "text/plain": [
       "11"
      ]
     },
     "execution_count": 23,
     "metadata": {},
     "output_type": "execute_result"
    }
   ],
   "source": [
    "def mult_lists(a, b):\n",
    "    if len(a) != len(b):\n",
    "        return\n",
    "\n",
    "    return sum(a[i] * b[i] for i in range(len(a)))\n",
    "\n",
    "\n",
    "mult_lists([1, 2, 3], [1, 2, 2])"
   ]
  },
  {
   "cell_type": "code",
   "execution_count": 24,
   "metadata": {},
   "outputs": [
    {
     "data": {
      "text/plain": [
       "[[0, 0], [0, 0], [0, 0]]"
      ]
     },
     "execution_count": 24,
     "metadata": {},
     "output_type": "execute_result"
    }
   ],
   "source": [
    "def add_row(matrix: list):\n",
    "    c = len(matrix[0])\n",
    "    matrix.append([0 for _ in range(c)])\n",
    "    return matrix\n",
    "\n",
    "\n",
    "add_row([[0, 0], [0, 0]])"
   ]
  },
  {
   "cell_type": "code",
   "execution_count": 25,
   "metadata": {},
   "outputs": [
    {
     "data": {
      "text/plain": [
       "[[0, 0, 0], [0, 1, 0]]"
      ]
     },
     "execution_count": 25,
     "metadata": {},
     "output_type": "execute_result"
    }
   ],
   "source": [
    "def add_column(matrix: list):\n",
    "    for l in matrix:\n",
    "        l.append(0)\n",
    "    return matrix\n",
    "\n",
    "\n",
    "add_column([[0, 0], [0, 1]])"
   ]
  },
  {
   "cell_type": "code",
   "execution_count": 26,
   "metadata": {},
   "outputs": [
    {
     "data": {
      "text/plain": [
       "[[3, 4], [5, 6]]"
      ]
     },
     "execution_count": 26,
     "metadata": {},
     "output_type": "execute_result"
    }
   ],
   "source": [
    "def add_matrices(a: list, b: list):\n",
    "    if len(a) != len(b):\n",
    "        return\n",
    "\n",
    "    for i in range(len(a)):\n",
    "        if len(a[i]) != len(b[i]):\n",
    "            return\n",
    "\n",
    "    return [add_lists(a[i], b[i]) for i in range(len(a))]\n",
    "\n",
    "\n",
    "add_matrices([[1, 2], [3, 4]], [[2, 2], [2, 2]])"
   ]
  },
  {
   "cell_type": "code",
   "execution_count": 27,
   "metadata": {},
   "outputs": [
    {
     "data": {
      "text/plain": [
       "[[1, 2, 1, 2, 1, 2], [3, 4, 3, 4, 3, 4]]"
      ]
     },
     "execution_count": 27,
     "metadata": {},
     "output_type": "execute_result"
    }
   ],
   "source": [
    "def scalar_mult(n, m):\n",
    "    for i in range(len(m)):\n",
    "        m[i] = n * m[i]\n",
    "    return m\n",
    "\n",
    "\n",
    "scalar_mult(3, [[1, 2], [3, 4]])"
   ]
  },
  {
   "cell_type": "code",
   "execution_count": 28,
   "metadata": {},
   "outputs": [
    {
     "data": {
      "text/plain": [
       "19"
      ]
     },
     "execution_count": 28,
     "metadata": {},
     "output_type": "execute_result"
    }
   ],
   "source": [
    "def row_times_column(m1, row, m2, column):\n",
    "    return mult_lists(m1[row], [m2[i][column] for i in range(len(m2))])\n",
    "\n",
    "\n",
    "row_times_column([[1, 2], [3, 4]], 0, [[5, 6], [7, 8]], 0)"
   ]
  },
  {
   "cell_type": "code",
   "execution_count": 36,
   "metadata": {},
   "outputs": [
    {
     "data": {
      "text/plain": [
       "[[39, 54, 69], [13, 23, 33], [14, 19, 24]]"
      ]
     },
     "execution_count": 36,
     "metadata": {},
     "output_type": "execute_result"
    }
   ],
   "source": [
    "def matrix_mult(m1, m2):\n",
    "    l = []\n",
    "    for k in range(len(m1)):\n",
    "        l.append([])\n",
    "        for i in range(len(m2[0])):\n",
    "            s = sum(m1[k][j] * m2[j][i] for j in range(len(m1[0])))\n",
    "            l[k].append(s)\n",
    "    return l\n",
    "\n",
    "\n",
    "# matrix_mult([[1, 2], [3, 4]], [[5, 6], [7, 8]])\n",
    "# matrix_mult([[1, 2, 3], [4, 5, 6]], [[7, 8], [9, 1], [2, 3]])\n",
    "matrix_mult([[7, 8], [9, 1], [2, 3]], [[1, 2, 3], [4, 5, 6]])"
   ]
  }
 ],
 "metadata": {
  "kernelspec": {
   "display_name": "Python 3",
   "language": "python",
   "name": "python3"
  },
  "language_info": {
   "codemirror_mode": {
    "name": "ipython",
    "version": 3
   },
   "file_extension": ".py",
   "mimetype": "text/x-python",
   "name": "python",
   "nbconvert_exporter": "python",
   "pygments_lexer": "ipython3",
   "version": "3.12.1"
  }
 },
 "nbformat": 4,
 "nbformat_minor": 2
}
